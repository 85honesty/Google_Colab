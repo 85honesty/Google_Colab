{
  "nbformat": 4,
  "nbformat_minor": 0,
  "metadata": {
    "colab": {
      "name": "GoogleDriveMount_Colab.ipynb",
      "provenance": [],
      "authorship_tag": "ABX9TyPt4K/E3MxBu/qc1Te/MjPD",
      "include_colab_link": true
    },
    "kernelspec": {
      "name": "python3",
      "display_name": "Python 3"
    },
    "language_info": {
      "name": "python"
    }
  },
  "cells": [
    {
      "cell_type": "markdown",
      "metadata": {
        "id": "view-in-github",
        "colab_type": "text"
      },
      "source": [
        "<a href=\"https://colab.research.google.com/github/85honesty/Google_Colab/blob/main/GoogleDriveMount_Colab.ipynb\" target=\"_parent\"><img src=\"https://colab.research.google.com/assets/colab-badge.svg\" alt=\"Open In Colab\"/></a>"
      ]
    },
    {
      "cell_type": "markdown",
      "source": [
        "# 구글 드라이브 마운트 해보기\n",
        "- 우주AI 데일리남의 블로그\n",
        "- https://blog.naver.com/85honesty/222704489253\n",
        "\n",
        "- 데일리남 유튜브\n",
        "- https://www.youtube.com/channel/UCrN-U6crG1jFW9dP1_VvC9Q"
      ],
      "metadata": {
        "id": "s_SvtM4xAnMm"
      }
    },
    {
      "cell_type": "code",
      "execution_count": 1,
      "metadata": {
        "colab": {
          "base_uri": "https://localhost:8080/"
        },
        "id": "5l9plq2-Ai4z",
        "outputId": "1aac9fb8-ac41-420d-e14b-9f91b58ae6ed"
      },
      "outputs": [
        {
          "output_type": "stream",
          "name": "stdout",
          "text": [
            "Mounted at /content/drive\n"
          ]
        }
      ],
      "source": [
        "from google.colab import drive\n",
        "drive.mount('/content/drive')"
      ]
    }
  ]
}